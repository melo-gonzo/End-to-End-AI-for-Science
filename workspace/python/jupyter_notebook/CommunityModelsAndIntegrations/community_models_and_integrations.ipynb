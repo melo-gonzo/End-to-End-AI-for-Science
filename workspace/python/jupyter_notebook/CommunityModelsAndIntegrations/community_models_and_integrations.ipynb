{
 "cells": [
  {
   "cell_type": "markdown",
   "id": "8005778a",
   "metadata": {},
   "source": [
    "# A Tutorial on Community Models and Integrations - PhysicsNeMo\n",
    "\n",
    "In this tutorial, PhysicsNeMo is used to expand the scope of community models and datasets, such as [The Well](https://github.com/PolymathicAI/the_well) by leveraging physics informed utilities, optimized model layers, and MLOps best practices. Specifically, the tutorial covers:\n",
    ". Loading and evaluating a checkpoint from The Well \n",
    ". How to use a pretrained checkpoint from The Well and run it as a PhysicsNeMo user\n",
    ". Training community models with PhysicsNeMo\n",
    ". Fine-tuning community models with PhysicsNeMo\n",
    ". Experimenting with different architectures, from the community and internal to PhysicsNeMo"
   ]
  },
  {
   "cell_type": "markdown",
   "id": "aa944336",
   "metadata": {},
   "source": [
    "## Loading Models and Data from The Well\n",
    "\n",
    "To begin, a model and dataset from The Well is selected for use throughout this example. For this example, the [Magnetohydrodynamics dataset](https://github.com/PolymathicAI/the_well/tree/master/datasets/MHD_64) is used. Magnetohydrodynamics (MHD), is the study of the dynamics of electrically conducting fluids such as plasmas.\n",
    "\n",
    "Note that any one of the models and dataset combinations may be selected.\n",
    "\n",
    "In addition to the data, a pre-trained model with a Tucker-Factorized Fourier Neural Operator (TFNO) architecture is used that will later be converted to PhysicsNeMo.\n",
    "\n",
    "The dataset streaming functionality from The Well can be utilized so that the dataset does not need to be downloaded locally. This requires accessing huggingface. Alternatively, the dataset can be downloaded which takes around 71GB of storage. The command to download all splits is `the-well-download --base-path path/to/base --dataset MHD_64`\n"
   ]
  },
  {
   "cell_type": "code",
   "execution_count": 1,
   "id": "affec459",
   "metadata": {
    "vscode": {
     "languageId": "plaintext"
    }
   },
   "outputs": [
    {
     "name": "stderr",
     "output_type": "stream",
     "text": [
      "/venv/lib/python3.12/site-packages/timm/models/layers/__init__.py:48: FutureWarning: Importing from timm.models.layers is deprecated, please import via timm.layers\n",
      "  warnings.warn(f\"Importing from {__name__} is deprecated, please import via timm.layers\", FutureWarning)\n"
     ]
    },
    {
     "data": {
      "text/plain": [
       "================================================================================\n",
       "Layer (type:depth-idx)                                  Param #\n",
       "================================================================================\n",
       "TFNO                                                    --\n",
       "├─NeuralOpsCheckpointWrapper: 1-1                       --\n",
       "│    └─FNOBlocks: 2-1                                   --\n",
       "│    │    └─SpectralConv: 3-1                           512\n",
       "│    │    │    └─ModuleList: 4-1                        --\n",
       "│    │    │    │    └─ComplexTuckerTensor: 5-1          75,564,194\n",
       "│    │    │    │    └─ComplexTuckerTensor: 5-2          75,564,194\n",
       "│    │    │    │    └─ComplexTuckerTensor: 5-3          75,564,194\n",
       "│    │    │    │    └─ComplexTuckerTensor: 5-4          75,564,194\n",
       "│    │    └─ModuleList: 3-2                             --\n",
       "│    │    │    └─Conv3d: 4-2                            16,384\n",
       "│    │    │    └─Conv3d: 4-3                            16,384\n",
       "│    │    │    └─Conv3d: 4-4                            16,384\n",
       "│    │    │    └─Conv3d: 4-5                            16,384\n",
       "│    └─MLP: 2-2                                         --\n",
       "│    │    └─ModuleList: 3-3                             --\n",
       "│    │    │    └─Conv3d: 4-6                            7,424\n",
       "│    │    │    └─Conv3d: 4-7                            32,896\n",
       "│    └─MLP: 2-3                                         --\n",
       "│    │    └─ModuleList: 3-4                             --\n",
       "│    │    │    └─Conv3d: 4-8                            33,024\n",
       "│    │    │    └─Conv3d: 4-9                            1,799\n",
       "================================================================================\n",
       "Total params: 302,397,967\n",
       "Trainable params: 302,397,967\n",
       "Non-trainable params: 0\n",
       "================================================================================"
      ]
     },
     "execution_count": 1,
     "metadata": {},
     "output_type": "execute_result"
    }
   ],
   "source": [
    "from the_well.benchmark.models import TFNO\n",
    "from torchinfo import summary\n",
    "\n",
    "# Load The Well model\n",
    "well_model = TFNO.from_pretrained(\"polymathic-ai/TFNO-MHD_64\")\n",
    "\n",
    "# Have a look at the model summary\n",
    "# Note that the order of layers does not represent order of execution\n",
    "summary(well_model, depth=5)"
   ]
  },
  {
   "cell_type": "code",
   "execution_count": 2,
   "id": "fe3381f0",
   "metadata": {
    "vscode": {
     "languageId": "plaintext"
    }
   },
   "outputs": [],
   "source": [
    "from the_well.data import WellDataset\n",
    "from the_well.data.normalization import ZScoreNormalization\n",
    "\n",
    "# Enable streaming the dataset from HuggingFace or loading from local directory\n",
    "# The following line may take a couple of minutes to instantiate the datamodule\n",
    "dataset = WellDataset(\n",
    "    # well_base_path=\"hf://datasets/polymathic-ai/\",  # access from HF hub, or locally.\n",
    "    well_base_path=\"./TheWellMHDData/datasets\",\n",
    "    well_dataset_name=\"MHD_64\",\n",
    "    well_split_name=\"train\",\n",
    "    use_normalization=True,\n",
    "    normalization_type=ZScoreNormalization,\n",
    "    n_steps_input=4,\n",
    "    n_steps_output=1,\n",
    ")"
   ]
  },
  {
   "cell_type": "markdown",
   "id": "8fc7787d",
   "metadata": {},
   "source": [
    "With the dataset on hand, its features, shape and size can be explored. `The Well` provides a great script for this already, and is left to the reader to go through if desired. A summary is provided below, also available on the [dataset card](https://github.com/PolymathicAI/the_well/blob/master/datasets/MHD_64/README.md) online:\n",
    "\n",
    "**Dimension of discretized data:** 100 timesteps of 64 $\\times$ 64 $\\times$ 64 cubes.\n",
    "\n",
    "**Fields available in the data:** Density (scalar field), velocity (vector field), magnetic field (vector field).\n",
    "\n",
    "**Number of trajectories:** 10 Initial conditions x 10 combination of parameters = 100 trajectories.\n",
    "\n",
    "**Estimated size of the ensemble of all simulations:** 71.6 GB.\n",
    "\n",
    "**Grid type:** uniform grid, cartesian coordinates.\n",
    "\n",
    "**Initial conditions:** uniform IC.\n",
    "\n",
    "**Boundary conditions:** periodic boundary conditions.\n",
    "\n",
    "**Data are stored separated by ($\\Delta t$):** 0.01 (arbitrary units).\n",
    "\n",
    "**Total time range ($t\\_{min}$ to $t\\_{max}$):** $t\\_{min} = 0$, $t\\_{max} = 1$.\n",
    "\n",
    "**Spatial domain size ($L_x$, $L_y$, $L_z$):** dimensionless so 64 pixels.\n",
    "\n",
    "**Set of coefficients or non-dimensional parameters evaluated:** all combinations of $\\mathcal{M}_s=${0.5, 0.7, 1.5, 2.0 7.0} and $\\mathcal{M}_A =${0.7, 2.0}.\n",
    "\n",
    "**Approximate time and hardware used to generate the data:** Downsampled from `MHD_256` after applying ideal low-pass filter.\n",
    "\n",
    "**What phenomena of physical interest are catpured in the data:** MHD fluid flows in the compressible limit (sub and super sonic, sub and super Alfvenic).\n",
    "\n",
    "**How to evaluate a new simulator operating in this space:** Check metrics such as Power spectrum, two-points correlation function.\n",
    "\n",
    "Please cite the associated paper if you use this data in your research:\n",
    "\n",
    "```\n",
    "@article{burkhart2020catalogue,\n",
    "  title={The catalogue for astrophysical turbulence simulations (cats)},\n",
    "  author={Burkhart, B and Appel, SM and Bialy, S and Cho, J and Christensen, AJ and Collins, D and Federrath, Christoph and Fielding, DB and Finkbeiner, D and Hill, AS and others},\n",
    "  journal={The Astrophysical Journal},\n",
    "  volume={905},\n",
    "  number={1},\n",
    "  pages={14},\n",
    "  year={2020},\n",
    "  publisher={IOP Publishing}\n",
    "}\n",
    "```\n",
    "\n",
    "\n"
   ]
  },
  {
   "cell_type": "markdown",
   "id": "ee44dbf1",
   "metadata": {},
   "source": [
    "A single sample can be extracted and inspected. Some notes from `The Well` are shown below. More info on examining their data can be found in [this example](https://github.com/PolymathicAI/the_well/blob/master/docs/tutorials/dataset.ipynb):\n",
    "\n",
    "The most important elements are `input_fields` and `output_fields`. They represent the time-varying physical fields of the dynamical system and are generally the input and target of our models. For a dynamical system that has 2 spatial dimensions $x$ and $y$, `input_fields` would have a shape $(T_{in}, L_x, L_y, F)$ and `output_fields` would have a shape $(T_{out}, L_x, L_y, F)$. The number of input and output timesteps $T_{in}$ and $T_{out}$ are specified at the instantiation of the dataset with the arguments `n_steps_input` and `n_steps_output`. $L_x$ and $L_y$ are the lengths of the spatial dimensions. $F$ represents the number of physical fields, where vector fields $v = (v_x, v_y)$ and tensor fields $t = (t_{xx}, t_{xy}, t_{yx}, t_{yy})$ are flattened.\n",
    "\n",
    "Note that the dataset for MHD has three spatial dimensions, so an extra $z$ term will be included."
   ]
  },
  {
   "cell_type": "code",
   "execution_count": 3,
   "id": "69ef513f",
   "metadata": {
    "vscode": {
     "languageId": "plaintext"
    }
   },
   "outputs": [
    {
     "name": "stdout",
     "output_type": "stream",
     "text": [
      "Key: input_fields         Shape: torch.Size([4, 64, 64, 64, 7])\n",
      "Key: output_fields        Shape: torch.Size([1, 64, 64, 64, 7])\n",
      "Key: constant_scalars     Shape: torch.Size([2])\n",
      "Key: boundary_conditions  Shape: torch.Size([3, 2])\n",
      "Key: space_grid           Shape: torch.Size([64, 64, 64, 3])\n",
      "Key: input_time_grid      Shape: torch.Size([4])\n",
      "Key: output_time_grid     Shape: torch.Size([1])\n",
      "Field Names: {0: ['density'], 1: ['magnetic_field_x', 'magnetic_field_y', 'magnetic_field_z', 'velocity_x', 'velocity_y', 'velocity_z'], 2: []}\n"
     ]
    }
   ],
   "source": [
    "sample = dataset[0]\n",
    "for k, v in sample.items():\n",
    "    print(f\"Key: {k.ljust(20)} Shape: {v.shape}\")\n",
    "\n",
    "print(f\"Field Names: {dataset.metadata.field_names}\")"
   ]
  },
  {
   "cell_type": "markdown",
   "id": "ef82c7da",
   "metadata": {},
   "source": [
    "Using the model summary from above and the order of operations in the [TFNO forward pass](https://github.com/neuraloperator/neuraloperator/blob/7bb578df787d6ca548b623b83f0601c98dc931fb/neuralop/models/fno.py#L337), the data is processed by:\n",
    "\n",
    "1. Applying optional positional encoding\n",
    "2. Sending inputs through a lifting layer to a high-dimensional latent space\n",
    "3. Applying optional domain padding to high-dimensional intermediate function representation\n",
    "4. Applying `n_layers` Fourier/TFNO layers in sequence (SpectralConvolution + skip connections, nonlinearity) \n",
    "5. If domain padding was applied, domain padding is removed\n",
    "6. Projection of intermediate function representation to the output channels\n",
    "\n",
    "\n",
    "This pretrained model is trained to predict the $T_{out} = 1$ next states given the $T_{in} = 4$ previous states. The input steps are concatenated along their channels, such that the model expects $T_{in} \\times F$ channels as input and $T_{out} \\times F$ channels as output. Because `WellDataset` is a PyTorch dataset, we can use it conveniently with PyTorch data-loaders."
   ]
  },
  {
   "cell_type": "markdown",
   "id": "219d51d0-246b-4860-8b65-4e26792ba734",
   "metadata": {},
   "source": [
    "We can now evaluate and verify the performacne of the pretrained MHD model from `the_well`. To do this, we will utilize the _streaming_ data mode from `the_well`, and the utilities in the `Trainer` for validation. "
   ]
  },
  {
   "cell_type": "markdown",
   "id": "0915ac36-ea41-4821-b38e-1e874cb8da12",
   "metadata": {},
   "source": [
    "## Using The Well Data to Train PhysicsNeMo Models\n",
    "Now that the baseline model from The Well has been evaluated, lets look at training a similar architecture from scratch in `PhysicsNeMo`. In the `PhysicsNeMo` examples, there is a similar example of a Tensor-Factorized Fourier Neural Operator implementation that has been used in a related use case for incompressible magnetohydrodynamics in 2D. This model can be adapted for use in 3D with the dataset from The Well. This also serves as an example for how `PhysicsNeMo` can be used as a framework for building and testing model architectures that are not found in base model collection. For the remainder of this notebook, a boiler-plate `Trainer` class is implemented in `utils.py` that contains the core components needed for loading models, running training loops, saving checkpoints, evaluating models, etc. The method `setup_model` needs to be implemented in order to use a model from PhysicsNeMo. For completeness, the TFNO architecture from `PhysicsNeMo` is included in the `tfno` folder. Additionally, there is a config file in `config` folder that is used to initialize some parameters for our pipeline.\n"
   ]
  },
  {
   "cell_type": "code",
   "execution_count": 4,
   "id": "8bfd6ad7-efaf-4113-82f8-0f79d4e46b4a",
   "metadata": {},
   "outputs": [],
   "source": [
    "import hydra\n",
    "from hydra import compose, initialize\n",
    "from training_utils import Trainer\n",
    "\n",
    "hydra.core.global_hydra.GlobalHydra.instance().clear()\n",
    "\n",
    "initialize(version_base=None, config_path=\"./config\")\n",
    "cfg = compose(config_name=\"mhd_config.yaml\")\n",
    "cfg.output_dir = \"./TEMP\"\n",
    "cfg.train_params.epochs = 1"
   ]
  },
  {
   "cell_type": "code",
   "execution_count": 5,
   "id": "c09dee18-82aa-474f-8cb8-6d0de3cc5203",
   "metadata": {},
   "outputs": [],
   "source": [
    "class MHDTrainer(Trainer):\n",
    "    def setup_model(self):\n",
    "        \"\"\"Setup the TFNO model based in PhysicsNeMo. Input parameters are set and controlled by the yaml config.\"\"\"\n",
    "        from tfno.tfno import TFNO\n",
    "\n",
    "        self.model = TFNO(\n",
    "            in_channels=self.model_params.in_dim,\n",
    "            coord_features=self.model_params.coord_features,\n",
    "            out_channels=self.model_params.out_dim,\n",
    "            decoder_layers=self.model_params.decoder_layers,\n",
    "            decoder_layer_size=self.model_params.fc_dim,\n",
    "            dimension=self.model_params.dimension,\n",
    "            latent_channels=self.model_params.layers,\n",
    "            num_fno_layers=self.model_params.num_fno_layers,\n",
    "            num_fno_modes=self.model_params.modes,\n",
    "            padding=[\n",
    "                self.model_params.pad_z,\n",
    "                self.model_params.pad_y,\n",
    "                self.model_params.pad_x,\n",
    "            ],\n",
    "            rank=self.model_params.rank,\n",
    "            factorization=self.model_params.factorization,\n",
    "            fixed_rank_modes=self.model_params.fixed_rank_modes,\n",
    "            decomposition_kwargs=self.model_params.decomposition_kwargs,\n",
    "        ).to(self.dist.device)\n",
    "\n",
    "        print(summary(self.model, depth=3))"
   ]
  },
  {
   "cell_type": "code",
   "execution_count": 6,
   "id": "7d158042-3c58-4079-8196-206ba038f9e5",
   "metadata": {},
   "outputs": [
    {
     "name": "stderr",
     "output_type": "stream",
     "text": [
      "/venv/lib/python3.12/site-packages/physicsnemo/distributed/manager.py:415: UserWarning: Could not initialize using ENV, SLURM or OPENMPI methods. Assuming this is a single process job\n",
      "  warn(\n",
      "/venv/lib/python3.12/site-packages/the_well/data/datamodule.py:115: DeprecationWarning: `use_normalization` parameter will be removed in a future version. For proper normalizing, set both use_normalization=True and normalization_type to either ZScoreNormalization or RMSNormalization.Default behavior is `normalization_type=ZScoreNormalization` and `use_normalization=True`.To switch off normalization instead, please set use_normalization=False in the config.yaml file\n",
      "  warnings.warn(\n"
     ]
    },
    {
     "name": "stdout",
     "output_type": "stream",
     "text": [
      "Setting up datamodule...\n",
      "Instantiating datamodule...\n",
      "Datamodule instantiated successfully!\n",
      "Dataset length: 7392\n",
      "Testing dataset access...\n",
      "Successfully accessed first sample!\n",
      "======================================================================\n",
      "Layer (type:depth-idx)                        Param #\n",
      "======================================================================\n",
      "TFNO                                          --\n",
      "├─GELU: 1-1                                   --\n",
      "├─FullyConnected: 1-2                         --\n",
      "│    └─ModuleList: 2-1                        --\n",
      "│    │    └─FCLayer: 3-1                      16,512\n",
      "│    └─FCLayer: 2-2                           --\n",
      "│    │    └─Identity: 3-2                     --\n",
      "│    │    └─Linear: 3-3                       903\n",
      "├─TFNO3DEncoder: 1-3                          --\n",
      "│    └─GELU: 2-3                              --\n",
      "│    └─Sequential: 2-4                        --\n",
      "│    │    └─Conv3dFCLayer: 3-4                1,856\n",
      "│    │    └─GELU: 3-5                         --\n",
      "│    │    └─Conv3dFCLayer: 3-6                8,320\n",
      "│    └─ModuleList: 2-5                        --\n",
      "│    │    └─FactorizedSpectralConv3d: 3-7     302,123,348\n",
      "│    └─ModuleList: 2-6                        --\n",
      "│    │    └─Conv3d: 3-8                       16,512\n",
      "======================================================================\n",
      "Total params: 302,167,451\n",
      "Trainable params: 302,167,451\n",
      "Non-trainable params: 0\n",
      "======================================================================\n",
      "Starting training epoch 1 with 924 batches\n"
     ]
    },
    {
     "name": "stderr",
     "output_type": "stream",
     "text": [
      "INFO:mhd_pino:[1.08%] Mini-Batch Losses: loss =  8.414e-01\n",
      "INFO:mhd_pino:[2.16%] Mini-Batch Losses: loss =  5.154e-01\n",
      "INFO:mhd_pino:[3.25%] Mini-Batch Losses: loss =  3.768e-01\n",
      "INFO:mhd_pino:[4.33%] Mini-Batch Losses: loss =  3.664e-01\n",
      "INFO:mhd_pino:[5.41%] Mini-Batch Losses: loss =  3.269e-01\n",
      "INFO:mhd_pino:[6.49%] Mini-Batch Losses: loss =  3.353e-01\n",
      "INFO:mhd_pino:[7.58%] Mini-Batch Losses: loss =  2.264e-01\n",
      "INFO:mhd_pino:[8.66%] Mini-Batch Losses: loss =  2.815e-01\n",
      "INFO:mhd_pino:[9.74%] Mini-Batch Losses: loss =  1.869e-01\n",
      "INFO:mhd_pino:[10.82%] Mini-Batch Losses: loss =  2.354e-01\n",
      "INFO:mhd_pino:[11.90%] Mini-Batch Losses: loss =  1.760e-01\n",
      "INFO:mhd_pino:[12.99%] Mini-Batch Losses: loss =  1.737e-01\n",
      "INFO:mhd_pino:[14.07%] Mini-Batch Losses: loss =  2.399e-01\n",
      "INFO:mhd_pino:[15.15%] Mini-Batch Losses: loss =  1.919e-01\n",
      "INFO:mhd_pino:[16.23%] Mini-Batch Losses: loss =  1.498e-01\n",
      "INFO:mhd_pino:[17.32%] Mini-Batch Losses: loss =  1.768e-01\n",
      "INFO:mhd_pino:[18.40%] Mini-Batch Losses: loss =  1.929e-01\n",
      "INFO:mhd_pino:[19.48%] Mini-Batch Losses: loss =  1.577e-01\n",
      "INFO:mhd_pino:[20.56%] Mini-Batch Losses: loss =  1.323e-01\n",
      "INFO:mhd_pino:[21.65%] Mini-Batch Losses: loss =  1.671e-01\n",
      "INFO:mhd_pino:[22.73%] Mini-Batch Losses: loss =  1.617e-01\n",
      "INFO:mhd_pino:[23.81%] Mini-Batch Losses: loss =  1.596e-01\n",
      "INFO:mhd_pino:[24.89%] Mini-Batch Losses: loss =  1.293e-01\n",
      "INFO:mhd_pino:[25.97%] Mini-Batch Losses: loss =  1.011e-01\n",
      "INFO:mhd_pino:[27.06%] Mini-Batch Losses: loss =  1.648e-01\n",
      "INFO:mhd_pino:[28.14%] Mini-Batch Losses: loss =  1.138e-01\n",
      "INFO:mhd_pino:[29.22%] Mini-Batch Losses: loss =  1.562e-01\n",
      "INFO:mhd_pino:[30.30%] Mini-Batch Losses: loss =  1.137e-01\n",
      "INFO:mhd_pino:[31.39%] Mini-Batch Losses: loss =  1.329e-01\n",
      "INFO:mhd_pino:[32.47%] Mini-Batch Losses: loss =  1.231e-01\n",
      "INFO:mhd_pino:[33.55%] Mini-Batch Losses: loss =  1.005e-01\n",
      "INFO:mhd_pino:[34.63%] Mini-Batch Losses: loss =  1.590e-01\n",
      "INFO:mhd_pino:[35.71%] Mini-Batch Losses: loss =  1.670e-01\n",
      "INFO:mhd_pino:[36.80%] Mini-Batch Losses: loss =  9.450e-02\n",
      "INFO:mhd_pino:[37.88%] Mini-Batch Losses: loss =  1.067e-01\n",
      "INFO:mhd_pino:[38.96%] Mini-Batch Losses: loss =  1.202e-01\n",
      "INFO:mhd_pino:[40.04%] Mini-Batch Losses: loss =  1.089e-01\n",
      "INFO:mhd_pino:[41.13%] Mini-Batch Losses: loss =  1.292e-01\n",
      "INFO:mhd_pino:[42.21%] Mini-Batch Losses: loss =  9.033e-02\n",
      "INFO:mhd_pino:[43.29%] Mini-Batch Losses: loss =  1.206e-01\n",
      "INFO:mhd_pino:[44.37%] Mini-Batch Losses: loss =  9.122e-02\n",
      "INFO:mhd_pino:[45.45%] Mini-Batch Losses: loss =  1.024e-01\n",
      "INFO:mhd_pino:[46.54%] Mini-Batch Losses: loss =  1.235e-01\n",
      "INFO:mhd_pino:[47.62%] Mini-Batch Losses: loss =  1.114e-01\n",
      "INFO:mhd_pino:[48.70%] Mini-Batch Losses: loss =  9.347e-02\n",
      "INFO:mhd_pino:[49.78%] Mini-Batch Losses: loss =  1.584e-01\n",
      "INFO:mhd_pino:[50.87%] Mini-Batch Losses: loss =  1.061e-01\n",
      "INFO:mhd_pino:[51.95%] Mini-Batch Losses: loss =  1.074e-01\n",
      "INFO:mhd_pino:[53.03%] Mini-Batch Losses: loss =  6.848e-02\n",
      "INFO:mhd_pino:[54.11%] Mini-Batch Losses: loss =  1.089e-01\n",
      "INFO:mhd_pino:[55.19%] Mini-Batch Losses: loss =  1.159e-01\n",
      "INFO:mhd_pino:[56.28%] Mini-Batch Losses: loss =  1.131e-01\n",
      "INFO:mhd_pino:[57.36%] Mini-Batch Losses: loss =  8.819e-02\n",
      "INFO:mhd_pino:[58.44%] Mini-Batch Losses: loss =  1.004e-01\n",
      "INFO:mhd_pino:[59.52%] Mini-Batch Losses: loss =  1.023e-01\n",
      "INFO:mhd_pino:[60.61%] Mini-Batch Losses: loss =  1.293e-01\n",
      "INFO:mhd_pino:[61.69%] Mini-Batch Losses: loss =  9.309e-02\n",
      "INFO:mhd_pino:[62.77%] Mini-Batch Losses: loss =  1.445e-01\n",
      "INFO:mhd_pino:[63.85%] Mini-Batch Losses: loss =  8.967e-02\n",
      "INFO:mhd_pino:[64.94%] Mini-Batch Losses: loss =  7.447e-02\n",
      "INFO:mhd_pino:[66.02%] Mini-Batch Losses: loss =  1.098e-01\n",
      "INFO:mhd_pino:[67.10%] Mini-Batch Losses: loss =  8.175e-02\n",
      "INFO:mhd_pino:[68.18%] Mini-Batch Losses: loss =  8.332e-02\n",
      "INFO:mhd_pino:[69.26%] Mini-Batch Losses: loss =  9.842e-02\n",
      "INFO:mhd_pino:[70.35%] Mini-Batch Losses: loss =  9.681e-02\n",
      "INFO:mhd_pino:[71.43%] Mini-Batch Losses: loss =  1.159e-01\n",
      "INFO:mhd_pino:[72.51%] Mini-Batch Losses: loss =  8.235e-02\n",
      "INFO:mhd_pino:[73.59%] Mini-Batch Losses: loss =  1.056e-01\n",
      "INFO:mhd_pino:[74.68%] Mini-Batch Losses: loss =  8.795e-02\n",
      "INFO:mhd_pino:[75.76%] Mini-Batch Losses: loss =  9.559e-02\n",
      "INFO:mhd_pino:[76.84%] Mini-Batch Losses: loss =  9.342e-02\n",
      "INFO:mhd_pino:[77.92%] Mini-Batch Losses: loss =  8.147e-02\n",
      "INFO:mhd_pino:[79.00%] Mini-Batch Losses: loss =  1.515e-01\n",
      "INFO:mhd_pino:[80.09%] Mini-Batch Losses: loss =  7.286e-02\n",
      "INFO:mhd_pino:[81.17%] Mini-Batch Losses: loss =  1.178e-01\n",
      "INFO:mhd_pino:[82.25%] Mini-Batch Losses: loss =  8.626e-02\n",
      "INFO:mhd_pino:[83.33%] Mini-Batch Losses: loss =  6.014e-02\n",
      "INFO:mhd_pino:[84.42%] Mini-Batch Losses: loss =  8.376e-02\n",
      "INFO:mhd_pino:[85.50%] Mini-Batch Losses: loss =  6.272e-02\n",
      "INFO:mhd_pino:[86.58%] Mini-Batch Losses: loss =  9.317e-02\n",
      "INFO:mhd_pino:[87.66%] Mini-Batch Losses: loss =  9.784e-02\n",
      "INFO:mhd_pino:[88.74%] Mini-Batch Losses: loss =  8.240e-02\n",
      "INFO:mhd_pino:[89.83%] Mini-Batch Losses: loss =  8.239e-02\n",
      "INFO:mhd_pino:[90.91%] Mini-Batch Losses: loss =  7.910e-02\n",
      "INFO:mhd_pino:[91.99%] Mini-Batch Losses: loss =  1.219e-01\n",
      "INFO:mhd_pino:[93.07%] Mini-Batch Losses: loss =  8.978e-02\n",
      "INFO:mhd_pino:[94.16%] Mini-Batch Losses: loss =  6.766e-02\n",
      "INFO:mhd_pino:[95.24%] Mini-Batch Losses: loss =  8.347e-02\n",
      "INFO:mhd_pino:[96.32%] Mini-Batch Losses: loss =  8.066e-02\n",
      "INFO:mhd_pino:[97.40%] Mini-Batch Losses: loss =  5.887e-02\n",
      "INFO:mhd_pino:[98.48%] Mini-Batch Losses: loss =  9.062e-02\n",
      "INFO:mhd_pino:[99.57%] Mini-Batch Losses: loss =  6.679e-02\n",
      "INFO:mhd_pino:\u001b[94mEpoch 1 Metrics: Learning Rate =  5.000e-04, loss =  1.456e-01\u001b[0m\n",
      "INFO:mhd_pino:\u001b[94mEpoch Execution Time:  4.060e+02s, Time/Iter:  4.394e+02ms\u001b[0m\n",
      "INFO:mhd_pino:Mini-Batch Losses: val_loss =  5.264e-02\n",
      "INFO:mhd_pino:\u001b[94mEpoch 1 Metrics: val_loss =  4.225e-02\u001b[0m\n",
      "INFO:mhd_pino:\u001b[94mEpoch Execution Time:  1.857e+01s, Time/Iter:  1.547e+02ms\u001b[0m\n",
      "WARNING:checkpoint:\u001b[93mOutput directory ./TEMP/checkpoints/pnm_model_well_data does not exist, will attempt to create\u001b[0m\n",
      "INFO:checkpoint:\u001b[92mSaved model state dictionary: /workspace/TEMP/checkpoints/pnm_model_well_data/TFNO.0.1.pt\u001b[0m\n",
      "INFO:checkpoint:\u001b[92mSaved training checkpoint: /workspace/TEMP/checkpoints/pnm_model_well_data/checkpoint.0.1.pt\u001b[0m\n"
     ]
    },
    {
     "data": {
      "text/plain": [
       "({'learning_rate': 0.0005, 'train_loss': 0.1456}, {'val_loss': 0.0423})"
      ]
     },
     "execution_count": 6,
     "metadata": {},
     "output_type": "execute_result"
    }
   ],
   "source": [
    "cfg.train_params.ckpt_path = \"./TEMP/checkpoints/pnm_model_well_data\"\n",
    "mhd_trainer = MHDTrainer(cfg)\n",
    "mhd_trainer.train()"
   ]
  },
  {
   "cell_type": "markdown",
   "id": "7dc37d72-df24-4944-8d3a-37dcc0f65758",
   "metadata": {},
   "source": [
    "## Running Models From The Well in PhysicsNemo\n",
    "\n",
    "PhysicsNeMo offers great utility in running community models natively in PhysicsNeMo by way of a simple conversion. The documentation for this can be found [here](https://docs.nvidia.com/deeplearning/physicsnemo/physicsnemo-core/api/physicsnemo.models.html#converting-pytorch-models-to-physicsnemo-models). The first process of the conversion is setting up the base PyTorch model as a PhysicsNeMo model.\n"
   ]
  },
  {
   "cell_type": "code",
   "execution_count": 7,
   "id": "1af4d77d-c0d8-402b-bc61-b79f92e9e6ad",
   "metadata": {},
   "outputs": [
    {
     "name": "stdout",
     "output_type": "stream",
     "text": [
      "<class 'physicsnemo.models.module.Module.from_torch.<locals>.PhysicsNeMoModel'>\n"
     ]
    }
   ],
   "source": [
    "from dataclasses import dataclass\n",
    "\n",
    "from physicsnemo.models.meta import ModelMetaData\n",
    "from physicsnemo.models.module import Module\n",
    "from the_well.benchmark.models import TFNO\n",
    "\n",
    "\n",
    "@dataclass\n",
    "class WellMetaData(ModelMetaData):\n",
    "    name: str = \"WellTFNOModel\"\n",
    "\n",
    "\n",
    "well_nemo_model = Module.from_torch(TFNO, meta=WellMetaData())\n",
    "print(well_nemo_model)"
   ]
  },
  {
   "cell_type": "code",
   "execution_count": 8,
   "id": "54301d85-7faf-4ae0-8345-4991652edd14",
   "metadata": {},
   "outputs": [
    {
     "name": "stdout",
     "output_type": "stream",
     "text": [
      "{'_hub_mixin_config': {'modes3': 16, 'hidden_channels': 128, 'gradient_checkpointing': False, 'dim_in': 28, 'dim_out': 7, 'n_spatial_dims': 3, 'spatial_resolution': [64, 64, 64], 'modes1': 16, 'modes2': 16}, 'training': True, '_parameters': {}, '_buffers': {}, '_non_persistent_buffers_set': set(), '_backward_pre_hooks': OrderedDict(), '_backward_hooks': OrderedDict(), '_is_full_backward_hook': None, '_forward_hooks': OrderedDict(), '_forward_hooks_with_kwargs': OrderedDict(), '_forward_hooks_always_called': OrderedDict(), '_forward_pre_hooks': OrderedDict(), '_forward_pre_hooks_with_kwargs': OrderedDict(), '_state_dict_hooks': OrderedDict(), '_state_dict_pre_hooks': OrderedDict(), '_load_state_dict_pre_hooks': OrderedDict(), '_load_state_dict_post_hooks': OrderedDict(), '_modules': {'model': NeuralOpsCheckpointWrapper(\n",
      "  (fno_blocks): FNOBlocks(\n",
      "    (convs): SpectralConv(\n",
      "      (weight): ModuleList(\n",
      "        (0-3): 4 x ComplexTuckerTensor(shape=(128, 128, 16, 16, 9), rank=(128, 128, 16, 16, 9))\n",
      "      )\n",
      "    )\n",
      "    (fno_skips): ModuleList(\n",
      "      (0-3): 4 x Conv3d(128, 128, kernel_size=(1, 1, 1), stride=(1, 1, 1), bias=False)\n",
      "    )\n",
      "  )\n",
      "  (lifting): MLP(\n",
      "    (fcs): ModuleList(\n",
      "      (0): Conv3d(28, 256, kernel_size=(1, 1, 1), stride=(1, 1, 1))\n",
      "      (1): Conv3d(256, 128, kernel_size=(1, 1, 1), stride=(1, 1, 1))\n",
      "    )\n",
      "  )\n",
      "  (projection): MLP(\n",
      "    (fcs): ModuleList(\n",
      "      (0): Conv3d(128, 256, kernel_size=(1, 1, 1), stride=(1, 1, 1))\n",
      "      (1): Conv3d(256, 7, kernel_size=(1, 1, 1), stride=(1, 1, 1))\n",
      "    )\n",
      "  )\n",
      ")}, 'n_spatial_dims': 3, 'spatial_resolution': [64, 64, 64], 'dim_in': 28, 'dim_out': 7, 'modes1': 16, 'modes2': 16, 'modes3': 16, 'hidden_channels': 128, 'initialized': False, 'gradient_checkpointing': False, 'n_modes': (16, 16, 16)}\n"
     ]
    },
    {
     "data": {
      "text/plain": [
       "=====================================================================================\n",
       "Layer (type:depth-idx)                                       Param #\n",
       "=====================================================================================\n",
       "TFNOPhysicsNeMoModel                                         --\n",
       "├─TFNO: 1-1                                                  --\n",
       "│    └─NeuralOpsCheckpointWrapper: 2-1                       --\n",
       "│    │    └─FNOBlocks: 3-1                                   --\n",
       "│    │    │    └─SpectralConv: 4-1                           512\n",
       "│    │    │    │    └─ModuleList: 5-1                        302,256,776\n",
       "│    │    │    └─ModuleList: 4-2                             --\n",
       "│    │    │    │    └─Conv3d: 5-2                            16,384\n",
       "│    │    │    │    └─Conv3d: 5-3                            16,384\n",
       "│    │    │    │    └─Conv3d: 5-4                            16,384\n",
       "│    │    │    │    └─Conv3d: 5-5                            16,384\n",
       "│    │    └─MLP: 3-2                                         --\n",
       "│    │    │    └─ModuleList: 4-3                             --\n",
       "│    │    │    │    └─Conv3d: 5-6                            7,424\n",
       "│    │    │    │    └─Conv3d: 5-7                            32,896\n",
       "│    │    └─MLP: 3-3                                         --\n",
       "│    │    │    └─ModuleList: 4-4                             --\n",
       "│    │    │    │    └─Conv3d: 5-8                            33,024\n",
       "│    │    │    │    └─Conv3d: 5-9                            1,799\n",
       "=====================================================================================\n",
       "Total params: 302,397,967\n",
       "Trainable params: 302,397,967\n",
       "Non-trainable params: 0\n",
       "====================================================================================="
      ]
     },
     "execution_count": 8,
     "metadata": {},
     "output_type": "execute_result"
    }
   ],
   "source": [
    "from physicsnemo.registry import ModelRegistry\n",
    "\n",
    "print(well_model.__dict__)\n",
    "well_nemo_model = ModelRegistry().factory(\"TFNOPhysicsNeMoModel\")(\n",
    "    dim_in=28,\n",
    "    dim_out=7,\n",
    "    n_spatial_dims=3,\n",
    "    spatial_resolution=[64, 64, 64],\n",
    "    hidden_channels=128,\n",
    "    modes1=16,\n",
    "    modes2=16,\n",
    "    modes3=16,\n",
    ")\n",
    "\n",
    "summary(well_nemo_model, depth=5)"
   ]
  },
  {
   "cell_type": "markdown",
   "id": "f4248391-ef8f-413e-a29b-5c307cb40e2b",
   "metadata": {},
   "source": [
    "The resulting `well_nemo_model` is simply the underlying PyTorch model from The Well, that can now be used with PhysicsNeMo and its utilities. Note that this is a newly instantiated model. To now train this model in PhysicsNeMo with the same dataset from The Well, we can update our `Trainer` to use this new model. "
   ]
  },
  {
   "cell_type": "code",
   "execution_count": 9,
   "id": "a661e334-66e4-4f6c-ae6c-6ddf8fb0fd48",
   "metadata": {},
   "outputs": [
    {
     "name": "stderr",
     "output_type": "stream",
     "text": [
      "/venv/lib/python3.12/site-packages/physicsnemo/distributed/manager.py:392: UserWarning: Distributed manager is already intialized\n",
      "  warn(\"Distributed manager is already intialized\")\n",
      "/venv/lib/python3.12/site-packages/the_well/data/datamodule.py:115: DeprecationWarning: `use_normalization` parameter will be removed in a future version. For proper normalizing, set both use_normalization=True and normalization_type to either ZScoreNormalization or RMSNormalization.Default behavior is `normalization_type=ZScoreNormalization` and `use_normalization=True`.To switch off normalization instead, please set use_normalization=False in the config.yaml file\n",
      "  warnings.warn(\n"
     ]
    },
    {
     "name": "stdout",
     "output_type": "stream",
     "text": [
      "Setting up datamodule...\n",
      "Instantiating datamodule...\n",
      "Datamodule instantiated successfully!\n",
      "Dataset length: 7392\n",
      "Testing dataset access...\n",
      "Successfully accessed first sample!\n",
      "=====================================================================================\n",
      "Layer (type:depth-idx)                                       Param #\n",
      "=====================================================================================\n",
      "TFNOPhysicsNeMoModel                                         --\n",
      "├─TFNO: 1-1                                                  --\n",
      "│    └─NeuralOpsCheckpointWrapper: 2-1                       --\n",
      "│    │    └─FNOBlocks: 3-1                                   --\n",
      "│    │    │    └─SpectralConv: 4-1                           512\n",
      "│    │    │    │    └─ModuleList: 5-1                        302,256,776\n",
      "│    │    │    └─ModuleList: 4-2                             --\n",
      "│    │    │    │    └─Conv3d: 5-2                            16,384\n",
      "│    │    │    │    └─Conv3d: 5-3                            16,384\n",
      "│    │    │    │    └─Conv3d: 5-4                            16,384\n",
      "│    │    │    │    └─Conv3d: 5-5                            16,384\n",
      "│    │    └─MLP: 3-2                                         --\n",
      "│    │    │    └─ModuleList: 4-3                             --\n",
      "│    │    │    │    └─Conv3d: 5-6                            7,424\n",
      "│    │    │    │    └─Conv3d: 5-7                            32,896\n",
      "│    │    └─MLP: 3-3                                         --\n",
      "│    │    │    └─ModuleList: 4-4                             --\n",
      "│    │    │    │    └─Conv3d: 5-8                            33,024\n",
      "│    │    │    │    └─Conv3d: 5-9                            1,799\n",
      "=====================================================================================\n",
      "Total params: 302,397,967\n",
      "Trainable params: 302,397,967\n",
      "Non-trainable params: 0\n",
      "=====================================================================================\n",
      "Starting training epoch 1 with 924 batches\n"
     ]
    },
    {
     "name": "stderr",
     "output_type": "stream",
     "text": [
      "INFO:mhd_pino:[1.08%] Mini-Batch Losses: loss =  8.781e-01\n",
      "INFO:mhd_pino:[2.16%] Mini-Batch Losses: loss =  7.189e-01\n",
      "INFO:mhd_pino:[3.25%] Mini-Batch Losses: loss =  4.117e-01\n",
      "INFO:mhd_pino:[4.33%] Mini-Batch Losses: loss =  2.887e-01\n",
      "INFO:mhd_pino:[5.41%] Mini-Batch Losses: loss =  2.818e-01\n",
      "INFO:mhd_pino:[6.49%] Mini-Batch Losses: loss =  2.460e-01\n",
      "INFO:mhd_pino:[7.58%] Mini-Batch Losses: loss =  2.829e-01\n",
      "INFO:mhd_pino:[8.66%] Mini-Batch Losses: loss =  2.152e-01\n",
      "INFO:mhd_pino:[9.74%] Mini-Batch Losses: loss =  2.128e-01\n",
      "INFO:mhd_pino:[10.82%] Mini-Batch Losses: loss =  2.031e-01\n",
      "INFO:mhd_pino:[11.90%] Mini-Batch Losses: loss =  1.697e-01\n",
      "INFO:mhd_pino:[12.99%] Mini-Batch Losses: loss =  2.316e-01\n",
      "INFO:mhd_pino:[14.07%] Mini-Batch Losses: loss =  2.073e-01\n",
      "INFO:mhd_pino:[15.15%] Mini-Batch Losses: loss =  1.312e-01\n",
      "INFO:mhd_pino:[16.23%] Mini-Batch Losses: loss =  1.624e-01\n",
      "INFO:mhd_pino:[17.32%] Mini-Batch Losses: loss =  2.314e-01\n",
      "INFO:mhd_pino:[18.40%] Mini-Batch Losses: loss =  1.373e-01\n",
      "INFO:mhd_pino:[19.48%] Mini-Batch Losses: loss =  9.296e-02\n",
      "INFO:mhd_pino:[20.56%] Mini-Batch Losses: loss =  1.829e-01\n",
      "INFO:mhd_pino:[21.65%] Mini-Batch Losses: loss =  1.187e-01\n",
      "INFO:mhd_pino:[22.73%] Mini-Batch Losses: loss =  1.372e-01\n",
      "INFO:mhd_pino:[23.81%] Mini-Batch Losses: loss =  1.383e-01\n",
      "INFO:mhd_pino:[24.89%] Mini-Batch Losses: loss =  1.289e-01\n",
      "INFO:mhd_pino:[25.97%] Mini-Batch Losses: loss =  1.296e-01\n",
      "INFO:mhd_pino:[27.06%] Mini-Batch Losses: loss =  1.740e-01\n",
      "INFO:mhd_pino:[28.14%] Mini-Batch Losses: loss =  1.870e-01\n",
      "INFO:mhd_pino:[29.22%] Mini-Batch Losses: loss =  1.757e-01\n",
      "INFO:mhd_pino:[30.30%] Mini-Batch Losses: loss =  1.245e-01\n",
      "INFO:mhd_pino:[31.39%] Mini-Batch Losses: loss =  1.023e-01\n",
      "INFO:mhd_pino:[32.47%] Mini-Batch Losses: loss =  1.378e-01\n",
      "INFO:mhd_pino:[33.55%] Mini-Batch Losses: loss =  1.565e-01\n",
      "INFO:mhd_pino:[34.63%] Mini-Batch Losses: loss =  1.565e-01\n",
      "INFO:mhd_pino:[35.71%] Mini-Batch Losses: loss =  1.251e-01\n",
      "INFO:mhd_pino:[36.80%] Mini-Batch Losses: loss =  1.233e-01\n",
      "INFO:mhd_pino:[37.88%] Mini-Batch Losses: loss =  1.058e-01\n",
      "INFO:mhd_pino:[38.96%] Mini-Batch Losses: loss =  1.564e-01\n",
      "INFO:mhd_pino:[40.04%] Mini-Batch Losses: loss =  1.432e-01\n",
      "INFO:mhd_pino:[41.13%] Mini-Batch Losses: loss =  1.031e-01\n",
      "INFO:mhd_pino:[42.21%] Mini-Batch Losses: loss =  1.349e-01\n",
      "INFO:mhd_pino:[43.29%] Mini-Batch Losses: loss =  1.598e-01\n",
      "INFO:mhd_pino:[44.37%] Mini-Batch Losses: loss =  1.729e-01\n",
      "INFO:mhd_pino:[45.45%] Mini-Batch Losses: loss =  1.260e-01\n",
      "INFO:mhd_pino:[46.54%] Mini-Batch Losses: loss =  2.017e-01\n",
      "INFO:mhd_pino:[47.62%] Mini-Batch Losses: loss =  1.207e-01\n",
      "INFO:mhd_pino:[48.70%] Mini-Batch Losses: loss =  1.505e-01\n",
      "INFO:mhd_pino:[49.78%] Mini-Batch Losses: loss =  1.207e-01\n",
      "INFO:mhd_pino:[50.87%] Mini-Batch Losses: loss =  1.675e-01\n",
      "INFO:mhd_pino:[51.95%] Mini-Batch Losses: loss =  2.445e-01\n",
      "INFO:mhd_pino:[53.03%] Mini-Batch Losses: loss =  1.253e-01\n",
      "INFO:mhd_pino:[54.11%] Mini-Batch Losses: loss =  1.513e-01\n",
      "INFO:mhd_pino:[55.19%] Mini-Batch Losses: loss =  1.411e-01\n",
      "INFO:mhd_pino:[56.28%] Mini-Batch Losses: loss =  1.762e-01\n",
      "INFO:mhd_pino:[57.36%] Mini-Batch Losses: loss =  1.200e-01\n",
      "INFO:mhd_pino:[58.44%] Mini-Batch Losses: loss =  1.127e-01\n",
      "INFO:mhd_pino:[59.52%] Mini-Batch Losses: loss =  1.151e-01\n",
      "INFO:mhd_pino:[60.61%] Mini-Batch Losses: loss =  1.346e-01\n",
      "INFO:mhd_pino:[61.69%] Mini-Batch Losses: loss =  1.392e-01\n",
      "INFO:mhd_pino:[62.77%] Mini-Batch Losses: loss =  1.153e-01\n",
      "INFO:mhd_pino:[63.85%] Mini-Batch Losses: loss =  1.740e-01\n",
      "INFO:mhd_pino:[64.94%] Mini-Batch Losses: loss =  1.812e-01\n",
      "INFO:mhd_pino:[66.02%] Mini-Batch Losses: loss =  1.237e-01\n",
      "INFO:mhd_pino:[67.10%] Mini-Batch Losses: loss =  1.331e-01\n",
      "INFO:mhd_pino:[68.18%] Mini-Batch Losses: loss =  1.126e-01\n",
      "INFO:mhd_pino:[69.26%] Mini-Batch Losses: loss =  1.160e-01\n",
      "INFO:mhd_pino:[70.35%] Mini-Batch Losses: loss =  1.033e-01\n",
      "INFO:mhd_pino:[71.43%] Mini-Batch Losses: loss =  1.532e-01\n",
      "INFO:mhd_pino:[72.51%] Mini-Batch Losses: loss =  1.596e-01\n",
      "INFO:mhd_pino:[73.59%] Mini-Batch Losses: loss =  1.457e-01\n",
      "INFO:mhd_pino:[74.68%] Mini-Batch Losses: loss =  1.391e-01\n",
      "INFO:mhd_pino:[75.76%] Mini-Batch Losses: loss =  1.837e-01\n",
      "INFO:mhd_pino:[76.84%] Mini-Batch Losses: loss =  1.318e-01\n",
      "INFO:mhd_pino:[77.92%] Mini-Batch Losses: loss =  2.127e-01\n",
      "INFO:mhd_pino:[79.00%] Mini-Batch Losses: loss =  8.176e-02\n",
      "INFO:mhd_pino:[80.09%] Mini-Batch Losses: loss =  1.195e-01\n",
      "INFO:mhd_pino:[81.17%] Mini-Batch Losses: loss =  1.657e-01\n",
      "INFO:mhd_pino:[82.25%] Mini-Batch Losses: loss =  9.738e-02\n",
      "INFO:mhd_pino:[83.33%] Mini-Batch Losses: loss =  1.497e-01\n",
      "INFO:mhd_pino:[84.42%] Mini-Batch Losses: loss =  1.279e-01\n",
      "INFO:mhd_pino:[85.50%] Mini-Batch Losses: loss =  1.691e-01\n",
      "INFO:mhd_pino:[86.58%] Mini-Batch Losses: loss =  1.364e-01\n",
      "INFO:mhd_pino:[87.66%] Mini-Batch Losses: loss =  1.114e-01\n",
      "INFO:mhd_pino:[88.74%] Mini-Batch Losses: loss =  1.091e-01\n",
      "INFO:mhd_pino:[89.83%] Mini-Batch Losses: loss =  7.267e-02\n",
      "INFO:mhd_pino:[90.91%] Mini-Batch Losses: loss =  9.276e-02\n",
      "INFO:mhd_pino:[91.99%] Mini-Batch Losses: loss =  1.394e-01\n",
      "INFO:mhd_pino:[93.07%] Mini-Batch Losses: loss =  1.139e-01\n",
      "INFO:mhd_pino:[94.16%] Mini-Batch Losses: loss =  1.453e-01\n",
      "INFO:mhd_pino:[95.24%] Mini-Batch Losses: loss =  1.037e-01\n",
      "INFO:mhd_pino:[96.32%] Mini-Batch Losses: loss =  1.059e-01\n",
      "INFO:mhd_pino:[97.40%] Mini-Batch Losses: loss =  1.796e-01\n",
      "INFO:mhd_pino:[98.48%] Mini-Batch Losses: loss =  1.202e-01\n",
      "INFO:mhd_pino:[99.57%] Mini-Batch Losses: loss =  1.804e-01\n",
      "INFO:mhd_pino:\u001b[94mEpoch 1 Metrics: Learning Rate =  5.000e-04, loss =  1.701e-01\u001b[0m\n",
      "INFO:mhd_pino:\u001b[94mEpoch Execution Time:  2.755e+02s, Time/Iter:  2.981e+02ms\u001b[0m\n",
      "INFO:mhd_pino:Mini-Batch Losses: val_loss =  2.661e-02\n",
      "INFO:mhd_pino:\u001b[94mEpoch 1 Metrics: val_loss =  5.123e-02\u001b[0m\n",
      "INFO:mhd_pino:\u001b[94mEpoch Execution Time:  3.154e+01s, Time/Iter:  2.629e+02ms\u001b[0m\n",
      "INFO:checkpoint:\u001b[92mSaved model state dictionary: /workspace/checkpoints/well_model_well_data/WellTFNOModel.0.1.mdlus\u001b[0m\n",
      "INFO:checkpoint:\u001b[92mSaved training checkpoint: /workspace/checkpoints/well_model_well_data/checkpoint.0.1.pt\u001b[0m\n"
     ]
    },
    {
     "data": {
      "text/plain": [
       "({'learning_rate': 0.0005, 'train_loss': 0.1701}, {'val_loss': 0.0512})"
      ]
     },
     "execution_count": 9,
     "metadata": {},
     "output_type": "execute_result"
    }
   ],
   "source": [
    "class MHDTrainer(Trainer):\n",
    "    def setup_model(self):\n",
    "        \"\"\"Setup the TFNO model based in PhysicsNeMo. Input parameters are set and controlled by the yaml config.\"\"\"\n",
    "        from dataclasses import dataclass\n",
    "\n",
    "        from physicsnemo.models.meta import ModelMetaData\n",
    "        from physicsnemo.models.module import Module\n",
    "        from the_well.benchmark.models import TFNO\n",
    "\n",
    "        @dataclass\n",
    "        class WellMetaData(ModelMetaData):\n",
    "            name: str = \"WellTFNOModel\"\n",
    "\n",
    "        well_nemo_model = Module.from_torch(TFNO, meta=WellMetaData())\n",
    "        well_nemo_model = well_nemo_model(\n",
    "            dim_in=28,\n",
    "            dim_out=7,\n",
    "            n_spatial_dims=3,\n",
    "            spatial_resolution=[64, 64, 64],\n",
    "            hidden_channels=128,\n",
    "            modes1=16,\n",
    "            modes2=16,\n",
    "            modes3=16,\n",
    "        )\n",
    "\n",
    "        self.model = well_nemo_model.to(self.dist.device)\n",
    "        print(summary(self.model, depth=5))\n",
    "\n",
    "\n",
    "cfg.train_params.ckpt_path = \"./checkpoints/well_model_well_data\"\n",
    "well_model_trainer = MHDTrainer(cfg)\n",
    "well_model_trainer.train()"
   ]
  },
  {
   "cell_type": "markdown",
   "id": "72959594-a700-4496-a66d-efbcf06b4a8a",
   "metadata": {},
   "source": [
    "## Fine-tuning Models from The Well in PhysicsNeMo\n",
    "Using the approach of converting models to PhysicsNeMo allows users to utilize all of the helpful features inside of PhysicsNeMo itself. One great feature of The Well is the abundance of pre-trained model that they provided, typically offering [many pretrained model architectures](https://huggingface.co/collections/polymathic-ai/the-well-benchmark-models-67e69bd7cd8e60229b5cd43e) for a single dataset. These pretrained models can be fine-tuned using PhysicsNeMo by leveraging a similar approach to the above example of converting a model into PhysicsNeMo format. In this section, the pretrained TFNO model will be loaded from The Well, converted to a PhysicsNeMo model, and then fine-tuned on a new dataset.\n",
    "\n",
    "The new dataset will come from a HuggingFace [community challenge focused around Stellerator design](https://huggingface.co/blog/cgeorgiaw/constellaration-fusion-challenge). In the field of magnetically confined fusion, the physics of magnetohydrodynamics influence the system in many ways, and modeling these equations help researchers and engineers understand reaction ability, equipment design, and plasma shapes, to name a few. In the remainder of this tutorial, we will set up the trainer, inspect the Stellerator desgin dataset, and fine-tune the model!"
   ]
  },
  {
   "cell_type": "markdown",
   "id": "b9911444-643f-4756-ac71-78d6be097273",
   "metadata": {},
   "source": [
    "### Loading The Well Pre-Trained Checkpoint as PhysicsNeMo Model"
   ]
  },
  {
   "cell_type": "code",
   "execution_count": 10,
   "id": "f3fa4ea3-c5f8-4741-bac4-9a847b150a85",
   "metadata": {},
   "outputs": [
    {
     "name": "stderr",
     "output_type": "stream",
     "text": [
      "/venv/lib/python3.12/site-packages/physicsnemo/distributed/manager.py:392: UserWarning: Distributed manager is already intialized\n",
      "  warn(\"Distributed manager is already intialized\")\n",
      "/venv/lib/python3.12/site-packages/the_well/data/datamodule.py:115: DeprecationWarning: `use_normalization` parameter will be removed in a future version. For proper normalizing, set both use_normalization=True and normalization_type to either ZScoreNormalization or RMSNormalization.Default behavior is `normalization_type=ZScoreNormalization` and `use_normalization=True`.To switch off normalization instead, please set use_normalization=False in the config.yaml file\n",
      "  warnings.warn(\n"
     ]
    },
    {
     "name": "stdout",
     "output_type": "stream",
     "text": [
      "Setting up datamodule...\n",
      "Instantiating datamodule...\n",
      "Datamodule instantiated successfully!\n",
      "Dataset length: 7392\n",
      "Testing dataset access...\n",
      "Successfully accessed first sample!\n",
      "=====================================================================================\n",
      "Layer (type:depth-idx)                                       Param #\n",
      "=====================================================================================\n",
      "TFNOPhysicsNeMoModel                                         --\n",
      "├─TFNO: 1-1                                                  --\n",
      "│    └─NeuralOpsCheckpointWrapper: 2-1                       --\n",
      "│    │    └─FNOBlocks: 3-1                                   --\n",
      "│    │    │    └─SpectralConv: 4-1                           302,257,288\n",
      "│    │    │    └─ModuleList: 4-2                             65,536\n",
      "│    │    └─MLP: 3-2                                         --\n",
      "│    │    │    └─ModuleList: 4-3                             40,320\n",
      "│    │    └─MLP: 3-3                                         --\n",
      "│    │    │    └─ModuleList: 4-4                             34,823\n",
      "=====================================================================================\n",
      "Total params: 302,397,967\n",
      "Trainable params: 302,397,967\n",
      "Non-trainable params: 0\n",
      "=====================================================================================\n",
      "TFNOPhysicsNeMoModel(\n",
      "  (inner_model): TFNO(\n",
      "    (model): NeuralOpsCheckpointWrapper(\n",
      "      (fno_blocks): FNOBlocks(\n",
      "        (convs): SpectralConv(\n",
      "          (weight): ModuleList(\n",
      "            (0-3): 4 x ComplexTuckerTensor(shape=(128, 128, 16, 16, 9), rank=(128, 128, 16, 16, 9))\n",
      "          )\n",
      "        )\n",
      "        (fno_skips): ModuleList(\n",
      "          (0-3): 4 x Conv3d(128, 128, kernel_size=(1, 1, 1), stride=(1, 1, 1), bias=False)\n",
      "        )\n",
      "      )\n",
      "      (lifting): MLP(\n",
      "        (fcs): ModuleList(\n",
      "          (0): Conv3d(28, 256, kernel_size=(1, 1, 1), stride=(1, 1, 1))\n",
      "          (1): Conv3d(256, 128, kernel_size=(1, 1, 1), stride=(1, 1, 1))\n",
      "        )\n",
      "      )\n",
      "      (projection): MLP(\n",
      "        (fcs): ModuleList(\n",
      "          (0): Conv3d(128, 256, kernel_size=(1, 1, 1), stride=(1, 1, 1))\n",
      "          (1): Conv3d(256, 7, kernel_size=(1, 1, 1), stride=(1, 1, 1))\n",
      "        )\n",
      "      )\n",
      "    )\n",
      "  )\n",
      ")\n"
     ]
    }
   ],
   "source": [
    "class MHDTrainer(Trainer):\n",
    "    def setup_model(self):\n",
    "        \"\"\"Setup the pretrained TFNO model from The Well as a PhysicsNeMo model.\n",
    "        Model input parameters are set from the well, and the original config is updated to reflect this.\"\"\"\n",
    "        import inspect\n",
    "\n",
    "        from physicsnemo.models.meta import ModelMetaData\n",
    "        from physicsnemo.models.module import Module\n",
    "        from the_well.benchmark.models import TFNO\n",
    "\n",
    "        well_model = TFNO.from_pretrained(\"polymathic-ai/TFNO-MHD_64\")\n",
    "        model_dict = well_model.__dict__\n",
    "\n",
    "        signature = inspect.signature(TFNO)\n",
    "        parameters = signature.parameters\n",
    "        filtered_params = {k: model_dict[k] for k in parameters if k in model_dict}\n",
    "\n",
    "        model = Module.from_torch(TFNO, meta=ModelMetaData(name=\"converted_tfno\"))\n",
    "        well_pretrained_model = model(**filtered_params)\n",
    "        well_pretrained_model.inner_model.load_state_dict(\n",
    "            well_model.state_dict(), strict=True\n",
    "        )\n",
    "        self.model = well_pretrained_model.to(self.dist.device)\n",
    "\n",
    "        print(summary(self.model, depth=4))\n",
    "        print(self.model)\n",
    "\n",
    "\n",
    "well_model_trainer = MHDTrainer(cfg)\n",
    "# well_model_trainer.train()"
   ]
  },
  {
   "cell_type": "markdown",
   "id": "a4c05319-1bdd-400e-8b84-f96dd4faba04",
   "metadata": {},
   "source": [
    "## Exploring the HuggingFace Stellerator Design Dataset\n",
    "With a simple framework for using community datasets and models with PhysicsNeMo, some deeper problems can be explored. In this section, the pretrained TFNO model for magnetohydrodynamics will be augmented, and used as a foundation for transfer learning onto a new dataset with a related objective: optimizing the design of a stellarator. Stellarators are a type of magnetically confined fusion device for containing plasma of very high temperature and pressure. The design of these devices is complex due to thier geometry. A recent challenge on HuggingFace serves as the basis for the problem.\n",
    "\n",
    "\n",
    "From the challenge page:\n",
    "\n",
    "The ConStellaration dataset contains over 150,000 QI equilibria produced by VMEC++. As a reminder, QI stellarators are a subset of configurations that minimize the internal plasma currents that can lead to disruptive events in a tokamak. The provided equilibria correspond to different 3D plasma boundary surfaces and offer samples across a wide and physically meaningful range of parameters. The dataset includes:\n",
    "\n",
    "Input parameters: the 3D plasma boundary, together with the pressure and current profiles.\n",
    "Equilibrium outputs: full VMEC++ equilibrium solution plus additional metrics of interest for stellarator design (e.g., degree of QI symmetry, turbulent transport geometrical quantities).\n",
    "\n",
    "There are many ways in which to use the dataset, and namely there are three unique challenges present that are available to solve, starting with low complexity and moving up to multimodal optimization problems. While this example will not directly solve any of the stated challenges, it will serve as a starting point towards utilizing community models and datasets with PhysicsNeMo, to solve real world problems. \n",
    "\n",
    "The goal of the model in this case is to serve as a surrogate for approximating the equilibrium dynamics of the plasma, which then maps to quantities of interest. The dataset contains input geometry and a large list of output parameters that can be learned. Because the pretrained TFNO model already has learned knowledge of magnetohydrodynamics, it is used to translate the input design parameters into predicted properties, by way of mapping input geometry to predicted MHD field, and then onto the properties of interest. The model here will utilize the pretrained TFNO as a frozen intermediate representation, while the input and output projections will be learned during training. \n",
    "\n",
    "Specifically, the input geometry of the stellarator plasma is converted from Fourier coefficientes defining its boundaries into a 3D representation, and the output is the predicted max elongation of the plasma.\n",
    "\n",
    "The dataloader class is provided in `constellaration_dataloader.py1, and the model is described below. "
   ]
  },
  {
   "cell_type": "code",
   "execution_count": 11,
   "id": "5c778bfc",
   "metadata": {
    "vscode": {
     "languageId": "plaintext"
    }
   },
   "outputs": [],
   "source": [
    "import torch\n",
    "import torch.nn as nn\n",
    "\n",
    "\n",
    "class TFNOSurrogate(nn.Module):\n",
    "    def __init__(\n",
    "        self,\n",
    "        input_channels=3,\n",
    "        output_dim=3,\n",
    "        hidden_dim=256,\n",
    "        target_input_channels=28,\n",
    "        target_output_channels=7,\n",
    "    ):\n",
    "        super().__init__()\n",
    "        self.input_channels = input_channels\n",
    "        self.output_dim = output_dim\n",
    "        self.hidden_dim = hidden_dim\n",
    "        self.target_input_channels = target_input_channels\n",
    "        self.target_output_channels = target_output_channels\n",
    "\n",
    "        # Input projection: 3D conv to project from input_channels to target_input_channels\n",
    "        # This projects the 3D volume to match the pretrained TFNO's expected input\n",
    "        self.input_projection = nn.Sequential(\n",
    "            nn.Conv3d(input_channels, hidden_dim, kernel_size=3, padding=1),\n",
    "            nn.ReLU(),\n",
    "            nn.Dropout(0.1),\n",
    "            nn.Conv3d(hidden_dim, hidden_dim // 2, kernel_size=3, padding=1),\n",
    "            nn.ReLU(),\n",
    "            nn.Dropout(0.1),\n",
    "            nn.Conv3d(hidden_dim // 2, target_input_channels, kernel_size=1),\n",
    "        )\n",
    "\n",
    "        # Output projection: 3D conv to project from target_output_channels to output_dim\n",
    "        # This projects the TFNO output to our target output size\n",
    "        self.output_projection = nn.Sequential(\n",
    "            nn.Conv3d(target_output_channels, hidden_dim // 2, kernel_size=1),\n",
    "            nn.ReLU(),\n",
    "            nn.Dropout(0.1),\n",
    "            nn.Conv3d(hidden_dim // 2, hidden_dim, kernel_size=3, padding=1),\n",
    "            nn.ReLU(),\n",
    "            nn.Dropout(0.1),\n",
    "            nn.Conv3d(\n",
    "                hidden_dim, 1, kernel_size=1\n",
    "            ),  # Single channel for global pooling\n",
    "        )\n",
    "\n",
    "        # Global pooling layer to convert 3D output to 1D\n",
    "        self.global_pool = nn.AdaptiveAvgPool3d(1)\n",
    "\n",
    "        # Final projection to output dimension\n",
    "        self.final_projection = nn.Sequential(\n",
    "            nn.Linear(1, hidden_dim // 2),\n",
    "            nn.ReLU(),\n",
    "            nn.Dropout(0.1),\n",
    "            nn.Linear(hidden_dim // 2, output_dim),\n",
    "        )\n",
    "\n",
    "        self.surrogate = self.setup_model()  # pretrained TFNOPhysicsNeMoModel\n",
    "        self.freeze_surrogate_weights()\n",
    "\n",
    "    def setup_model(self):\n",
    "        \"\"\"Setup the pretrained TFNO model from The Well as a PhysicsNeMo model.\n",
    "        Model input parameters are set from the well, and the original config is updated to reflect this.\"\"\"\n",
    "        import inspect\n",
    "\n",
    "        from physicsnemo.models.meta import ModelMetaData\n",
    "        from physicsnemo.models.module import Module\n",
    "        from the_well.benchmark.models import TFNO\n",
    "\n",
    "        well_model = TFNO.from_pretrained(\"polymathic-ai/TFNO-MHD_64\")\n",
    "        model_dict = well_model.__dict__\n",
    "\n",
    "        signature = inspect.signature(TFNO)\n",
    "        parameters = signature.parameters\n",
    "        filtered_params = {k: model_dict[k] for k in parameters if k in model_dict}\n",
    "\n",
    "        model = Module.from_torch(TFNO, meta=ModelMetaData(name=\"converted_tfno\"))\n",
    "        well_pretrained_model = model(**filtered_params)\n",
    "        well_pretrained_model.inner_model.load_state_dict(\n",
    "            well_model.state_dict(), strict=True\n",
    "        )\n",
    "        return well_pretrained_model\n",
    "\n",
    "    def freeze_surrogate_weights(self):\n",
    "        \"\"\"Freeze all parameters in the pretrained TFNO surrogate model.\"\"\"\n",
    "        for param in self.surrogate.parameters():\n",
    "            param.requires_grad = False\n",
    "\n",
    "        # Also freeze the surrogate model itself to prevent any updates\n",
    "        self.surrogate.eval()  # Set to evaluation mode\n",
    "\n",
    "        print(\n",
    "            f\"Frozen {sum(p.numel() for p in self.surrogate.parameters())} parameters in pretrained TFNO model\"\n",
    "        )\n",
    "\n",
    "    def forward(self, x):\n",
    "        # Input: [batch_size, channels, height, width, depth] from FullConstellarationDataset\n",
    "        # Expected: [batch_size, 3, 64, 64, 64] -> [batch_size, 28, 64, 64, 64]\n",
    "        # Input projection: 3D conv to match pretrained TFNO input channels\n",
    "        x_projected = self.input_projection(x)  # [batch_size, 28, 64, 64, 64]\n",
    "\n",
    "        # Pass through the pretrained TFNO model\n",
    "        tfno_output = self.surrogate(x_projected)  # [batch_size, 7, 64, 64, 64]\n",
    "\n",
    "        # Output projection: 3D conv to prepare for global pooling\n",
    "        tfno_projected = self.output_projection(\n",
    "            tfno_output\n",
    "        )  # [batch_size, 1, 64, 64, 64]\n",
    "\n",
    "        # Global average pooling: [batch_size, 1, 64, 64, 64] -> [batch_size, 1, 1, 1, 1]\n",
    "        pooled = self.global_pool(tfno_projected)  # [batch_size, 1, 1, 1, 1]\n",
    "\n",
    "        # Flatten: [batch_size, 1, 1, 1, 1] -> [batch_size, 1]\n",
    "        flattened = pooled.squeeze(-1).squeeze(-1).squeeze(-1)  # [batch_size, 1]\n",
    "\n",
    "        # Final projection to output dimension: [batch_size, 1] -> [batch_size, output_dim]\n",
    "        output = self.final_projection(flattened)  # [batch_size, 3]\n",
    "\n",
    "        return output"
   ]
  },
  {
   "cell_type": "markdown",
   "id": "36431ba1",
   "metadata": {},
   "source": [
    "The model and dataloader can then be used with the previous training utilities and a few slight modifications."
   ]
  },
  {
   "cell_type": "code",
   "execution_count": 12,
   "id": "28c7be03",
   "metadata": {
    "vscode": {
     "languageId": "plaintext"
    }
   },
   "outputs": [
    {
     "name": "stderr",
     "output_type": "stream",
     "text": [
      "/venv/lib/python3.12/site-packages/physicsnemo/distributed/manager.py:392: UserWarning: Distributed manager is already intialized\n",
      "  warn(\"Distributed manager is already intialized\")\n",
      "INFO:datasets:PyTorch version 2.7.1 available.\n",
      "INFO:datasets:JAX version 0.5.0 available.\n"
     ]
    },
    {
     "data": {
      "application/vnd.jupyter.widget-view+json": {
       "model_id": "fefd4598239c46fe8ccdb1eb8115f8df",
       "version_major": 2,
       "version_minor": 0
      },
      "text/plain": [
       "README.md: 0.00B [00:00, ?B/s]"
      ]
     },
     "metadata": {},
     "output_type": "display_data"
    },
    {
     "name": "stderr",
     "output_type": "stream",
     "text": [
      "Setting num_proc from 4 to 3 for the train split as it only contains 3 shards.\n",
      "WARNING:datasets.builder:Setting num_proc from 4 to 3 for the train split as it only contains 3 shards.\n"
     ]
    },
    {
     "data": {
      "application/vnd.jupyter.widget-view+json": {
       "model_id": "51e3863ec0384b5f8dab66a36bbec098",
       "version_major": 2,
       "version_minor": 0
      },
      "text/plain": [
       "Generating train split:   0%|          | 0/182222 [00:00<?, ? examples/s]"
      ]
     },
     "metadata": {},
     "output_type": "display_data"
    },
    {
     "data": {
      "application/vnd.jupyter.widget-view+json": {
       "model_id": "55fd9e7ee2a54678b5b82a1476e559d6",
       "version_major": 2,
       "version_minor": 0
      },
      "text/plain": [
       "Filter:   0%|          | 0/182222 [00:00<?, ? examples/s]"
      ]
     },
     "metadata": {},
     "output_type": "display_data"
    },
    {
     "name": "stdout",
     "output_type": "stream",
     "text": [
      "Frozen 302397967 parameters in pretrained TFNO model\n",
      "Starting training epoch 1 with 400 batches\n"
     ]
    },
    {
     "name": "stderr",
     "output_type": "stream",
     "text": [
      "INFO:mhd_pino:[2.50%] Mini-Batch Losses: loss =  1.807e+01\n",
      "INFO:mhd_pino:[5.00%] Mini-Batch Losses: loss =  1.356e+02\n",
      "INFO:mhd_pino:[7.50%] Mini-Batch Losses: loss =  4.372e+00\n",
      "INFO:mhd_pino:[10.00%] Mini-Batch Losses: loss =  8.643e+00\n",
      "INFO:mhd_pino:[12.50%] Mini-Batch Losses: loss =  2.211e+00\n",
      "INFO:mhd_pino:[15.00%] Mini-Batch Losses: loss =  2.319e+00\n",
      "INFO:mhd_pino:[17.50%] Mini-Batch Losses: loss =  4.676e+00\n",
      "INFO:mhd_pino:[20.00%] Mini-Batch Losses: loss =  6.463e-01\n",
      "INFO:mhd_pino:[22.50%] Mini-Batch Losses: loss =  2.045e+00\n",
      "INFO:mhd_pino:[25.00%] Mini-Batch Losses: loss =  2.081e+00\n",
      "INFO:mhd_pino:[27.50%] Mini-Batch Losses: loss =  9.903e-01\n",
      "INFO:mhd_pino:[30.00%] Mini-Batch Losses: loss =  6.020e+00\n",
      "INFO:mhd_pino:[32.50%] Mini-Batch Losses: loss =  3.999e+00\n",
      "INFO:mhd_pino:[35.00%] Mini-Batch Losses: loss =  2.092e+00\n",
      "INFO:mhd_pino:[37.50%] Mini-Batch Losses: loss =  4.113e+00\n",
      "INFO:mhd_pino:[40.00%] Mini-Batch Losses: loss =  2.674e+00\n",
      "INFO:mhd_pino:[42.50%] Mini-Batch Losses: loss =  5.162e-01\n",
      "INFO:mhd_pino:[45.00%] Mini-Batch Losses: loss =  1.547e+00\n",
      "INFO:mhd_pino:[47.50%] Mini-Batch Losses: loss =  3.256e-01\n",
      "INFO:mhd_pino:[50.00%] Mini-Batch Losses: loss =  3.313e+00\n",
      "INFO:mhd_pino:[52.50%] Mini-Batch Losses: loss =  2.693e-01\n",
      "INFO:mhd_pino:[55.00%] Mini-Batch Losses: loss =  3.019e+00\n",
      "INFO:mhd_pino:[57.50%] Mini-Batch Losses: loss =  1.807e+00\n",
      "INFO:mhd_pino:[60.00%] Mini-Batch Losses: loss =  7.864e-01\n",
      "INFO:mhd_pino:[62.50%] Mini-Batch Losses: loss =  4.734e-02\n",
      "INFO:mhd_pino:[65.00%] Mini-Batch Losses: loss =  8.025e+00\n",
      "INFO:mhd_pino:[67.50%] Mini-Batch Losses: loss =  1.694e+00\n",
      "INFO:mhd_pino:[70.00%] Mini-Batch Losses: loss =  1.036e+00\n",
      "INFO:mhd_pino:[72.50%] Mini-Batch Losses: loss =  1.100e+00\n",
      "INFO:mhd_pino:[75.00%] Mini-Batch Losses: loss =  3.697e-01\n",
      "INFO:mhd_pino:[77.50%] Mini-Batch Losses: loss =  1.136e+00\n",
      "INFO:mhd_pino:[80.00%] Mini-Batch Losses: loss =  3.402e+00\n",
      "INFO:mhd_pino:[82.50%] Mini-Batch Losses: loss =  1.185e+00\n",
      "INFO:mhd_pino:[85.00%] Mini-Batch Losses: loss =  2.036e+00\n",
      "INFO:mhd_pino:[87.50%] Mini-Batch Losses: loss =  6.793e+00\n",
      "INFO:mhd_pino:[90.00%] Mini-Batch Losses: loss =  2.663e+00\n",
      "INFO:mhd_pino:[92.50%] Mini-Batch Losses: loss =  5.393e-02\n",
      "INFO:mhd_pino:[95.00%] Mini-Batch Losses: loss =  7.907e-01\n",
      "INFO:mhd_pino:[97.50%] Mini-Batch Losses: loss =  8.869e-01\n",
      "INFO:mhd_pino:[100.00%] Mini-Batch Losses: loss =  2.502e+00\n",
      "INFO:mhd_pino:\u001b[94mEpoch 1 Metrics: Learning Rate =  5.000e-04, loss =  5.010e+00\u001b[0m\n",
      "INFO:mhd_pino:\u001b[94mEpoch Execution Time:  8.558e+01s, Time/Iter:  2.140e+02ms\u001b[0m\n",
      "INFO:mhd_pino:\u001b[94mEpoch 1 Metrics: val_loss =  1.291e+00\u001b[0m\n",
      "INFO:mhd_pino:\u001b[94mEpoch Execution Time:  6.038e+00s, Time/Iter:  1.208e+02ms\u001b[0m\n",
      "WARNING:checkpoint:\u001b[93mOutput directory ./checkpoints/well_model_constellar_data does not exist, will attempt to create\u001b[0m\n",
      "INFO:checkpoint:\u001b[92mSaved model state dictionary: /workspace/checkpoints/well_model_constellar_data/TFNOSurrogate.0.1.pt\u001b[0m\n",
      "INFO:checkpoint:\u001b[92mSaved training checkpoint: /workspace/checkpoints/well_model_constellar_data/checkpoint.0.1.pt\u001b[0m\n"
     ]
    },
    {
     "data": {
      "text/plain": [
       "({'learning_rate': 0.0005, 'train_loss': 5.0102}, {'val_loss': 1.2912})"
      ]
     },
     "execution_count": 12,
     "metadata": {},
     "output_type": "execute_result"
    }
   ],
   "source": [
    "from typing import List\n",
    "from einops import rearrange\n",
    "\n",
    "\n",
    "class ConstellarationTrainer(Trainer):\n",
    "    def setup_model(self):\n",
    "        \"\"\"Setup the TFNO model based in PhysicsNeMo. Input parameters are set and controlled by the yaml config.\"\"\"\n",
    "        from constellaration_surrogate import TFNOSurrogate\n",
    "\n",
    "        self.model = TFNOSurrogate(input_channels=3, output_dim=1)\n",
    "        self.model.to(self.dist.device)\n",
    "\n",
    "    def _setup_data(self):\n",
    "        from constellaration_dataloader import ConstellarationDataLoader\n",
    "\n",
    "        self.datamodule = ConstellarationDataLoader(\n",
    "            challenge=\"challenge_1\",\n",
    "            dataset_type=\"full\",\n",
    "            grid_size=(64, 64, 64),\n",
    "            batch_size=2,\n",
    "        )\n",
    "        self.datamodule.prepare()\n",
    "\n",
    "    def _forward_pass(self, batch: List[torch.Tensor]) -> torch.Tensor:\n",
    "        # Add dimension for our one input field\n",
    "        inputs = batch[\"input_fields\"].unsqueeze(-1)\n",
    "        # Rearrange for model: (batch, time, x, y, z, fields) -> (batch, (time fields), x, y, z)\n",
    "        model_inputs = rearrange(inputs, \"B Ti Lx Ly Lz F -> B (Ti F) Lx Ly Lz\")\n",
    "\n",
    "        # Forward pass through model\n",
    "        model_outputs = self.model(model_inputs)\n",
    "        return model_outputs\n",
    "\n",
    "\n",
    "cfg.train_params.ckpt_path = \"./checkpoints/well_model_constellar_data\"\n",
    "constellaration_model_trainer = ConstellarationTrainer(cfg)\n",
    "constellaration_model_trainer.train()"
   ]
  },
  {
   "cell_type": "markdown",
   "id": "c33f1bea-cc2c-4cc5-af23-e605dbcadb75",
   "metadata": {},
   "source": [
    "## Expanding The Scope - More Models\n"
   ]
  }
 ],
 "metadata": {
  "kernelspec": {
   "display_name": "Python 3 (ipykernel)",
   "language": "python",
   "name": "python3"
  },
  "language_info": {
   "codemirror_mode": {
    "name": "ipython",
    "version": 3
   },
   "file_extension": ".py",
   "mimetype": "text/x-python",
   "name": "python",
   "nbconvert_exporter": "python",
   "pygments_lexer": "ipython3",
   "version": "3.12.3"
  }
 },
 "nbformat": 4,
 "nbformat_minor": 5
}
