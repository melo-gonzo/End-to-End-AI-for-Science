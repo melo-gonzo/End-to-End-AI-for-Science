{
 "cells": [
  {
   "cell_type": "markdown",
   "id": "8005778a",
   "metadata": {},
   "source": [
    "# A Tutorial on Community Models and Integrations - PhysicsNeMo\n",
    "\n",
    "In this tutorial, PhysicsNeMo is used to expand the scope of community models and datasets, such as [The Well](https://github.com/PolymathicAI/the_well) by leveraging physics informed utilities, optimized model layers, and MLOps best practices. Specifically, the tutorial covers:\n",
    ". Loading and evaluating a checkpoint from `The Well` \n",
    ". How to use a pretrained checkpoint from `The Well` and run it as a PhysicsNeMo user\n",
    ". Training community models with PhysicsNeMo\n",
    ". Fine-tuning community models with PhysicsNeMo\n",
    ". Experimenting with different architectures, from the community and internal to PhysicsNeMo"
   ]
  },
  {
   "cell_type": "markdown",
   "id": "aa944336",
   "metadata": {},
   "source": [
    "## Loading Models and Data from `The Well`\n",
    "\n",
    "To begin, a model and dataset from `the_well` is selected for use throughout this example. For this example, the [Magnetohydrodynamics dataset](https://github.com/PolymathicAI/the_well/tree/master/datasets/MHD_64) is used. Magnetohydrodynamics (MHD), is the study of the dynamics of electrically conducting fluids such as plasmas.\n",
    "\n",
    "Note that any one of the models and dataset combinations may be selected.\n",
    "\n",
    "In addition to the data, a pre-trained model with a Tucker-Factorized Fourier Neural Operator (TFNO) architecture is used that will be later converted to PhysicsNeMo.\n",
    "\n",
    "The dataset streaming functionality from `the_well` will be utilized so that the dataset does not need to be downloaded locally. This requires accessing huggingface. "
   ]
  },
  {
   "cell_type": "code",
   "execution_count": null,
   "id": "affec459",
   "metadata": {
    "vscode": {
     "languageId": "plaintext"
    }
   },
   "outputs": [],
   "source": [
    "from the_well.benchmark.models import TFNO\n",
    "from torchinfo import summary\n",
    "\n",
    "# Load The Well model\n",
    "well_model = TFNO.from_pretrained(\"polymathic-ai/TFNO-MHD_64\")\n",
    "\n",
    "# Have a look at the model summary\n",
    "summary(well_model, depth=5)"
   ]
  },
  {
   "cell_type": "code",
   "execution_count": null,
   "id": "fe3381f0",
   "metadata": {
    "vscode": {
     "languageId": "plaintext"
    }
   },
   "outputs": [],
   "source": [
    "from the_well.data import WellDataset\n",
    "\n",
    "# Enable streaming the dataset from HuggingFace\n",
    "# The following line may take a couple of minutes to instantiate the datamodule\n",
    "dataset = WellDataset(\n",
    "    well_base_path=\"hf://datasets/polymathic-ai/\",  # access from HF hub\n",
    "    well_dataset_name=\"MHD_64\",\n",
    "    well_split_name=\"train\",\n",
    ")"
   ]
  },
  {
   "cell_type": "markdown",
   "id": "8fc7787d",
   "metadata": {},
   "source": [
    "With the dataset on hand, its features, shape and size can be explored. `The Well` provides a great script for this already, and is left to the reader to explore if desired. A summary is provided below, also available on the [dataset card](https://github.com/PolymathicAI/the_well/blob/master/datasets/MHD_64/README.md) online:\n",
    "\n",
    "**Dimension of discretized data:** 100 timesteps of 64 $\\times$ 64 $\\times$ 64 cubes.\n",
    "\n",
    "**Fields available in the data:** Density (scalar field), velocity (vector field), magnetic field (vector field).\n",
    "\n",
    "**Number of trajectories:** 10 Initial conditions x 10 combination of parameters = 100 trajectories.\n",
    "\n",
    "**Estimated size of the ensemble of all simulations:** 71.6 GB.\n",
    "\n",
    "**Grid type:** uniform grid, cartesian coordinates.\n",
    "\n",
    "**Initial conditions:** uniform IC.\n",
    "\n",
    "**Boundary conditions:** periodic boundary conditions.\n",
    "\n",
    "**Data are stored separated by ($\\Delta t$):** 0.01 (arbitrary units).\n",
    "\n",
    "**Total time range ($t\\_{min}$ to $t\\_{max}$):** $t\\_{min} = 0$, $t\\_{max} = 1$.\n",
    "\n",
    "**Spatial domain size ($L_x$, $L_y$, $L_z$):** dimensionless so 64 pixels.\n",
    "\n",
    "**Set of coefficients or non-dimensional parameters evaluated:** all combinations of $\\mathcal{M}_s=${0.5, 0.7, 1.5, 2.0 7.0} and $\\mathcal{M}_A =${0.7, 2.0}.\n",
    "\n",
    "**Approximate time and hardware used to generate the data:** Downsampled from `MHD_256` after applying ideal low-pass filter.\n",
    "\n",
    "**What phenomena of physical interest are catpured in the data:** MHD fluid flows in the compressible limit (sub and super sonic, sub and super Alfvenic).\n",
    "\n",
    "**How to evaluate a new simulator operating in this space:** Check metrics such as Power spectrum, two-points correlation function.\n",
    "\n",
    "Please cite the associated paper if you use this data in your research:\n",
    "\n",
    "```\n",
    "@article{burkhart2020catalogue,\n",
    "  title={The catalogue for astrophysical turbulence simulations (cats)},\n",
    "  author={Burkhart, B and Appel, SM and Bialy, S and Cho, J and Christensen, AJ and Collins, D and Federrath, Christoph and Fielding, DB and Finkbeiner, D and Hill, AS and others},\n",
    "  journal={The Astrophysical Journal},\n",
    "  volume={905},\n",
    "  number={1},\n",
    "  pages={14},\n",
    "  year={2020},\n",
    "  publisher={IOP Publishing}\n",
    "}\n",
    "```\n",
    "\n",
    "\n"
   ]
  },
  {
   "cell_type": "markdown",
   "id": "ee44dbf1",
   "metadata": {},
   "source": [
    "A single sample can be extracted and inspected. Some notes from `The Well` are shown below. More info on examining their data can be found in [this example](https://github.com/PolymathicAI/the_well/blob/master/docs/tutorials/dataset.ipynb):\n",
    "\n",
    "The most important elements are `input_fields` and `output_fields`. They represent the time-varying physical fields of the dynamical system and are generally the input and target of our models. For a dynamical system that has 2 spatial dimensions $x$ and $y$, `input_fields` would have a shape $(T_{in}, L_x, L_y, F)$ and `output_fields` would have a shape $(T_{out}, L_x, L_y, F)$. The number of input and output timesteps $T_{in}$ and $T_{out}$ are specified at the instantiation of the dataset with the arguments `n_steps_input` and `n_steps_output`. $L_x$ and $L_y$ are the lengths of the spatial dimensions. $F$ represents the number of physical fields, where vector fields $v = (v_x, v_y)$ and tensor fields $t = (t_{xx}, t_{xy}, t_{yx}, t_{yy})$ are flattened."
   ]
  },
  {
   "cell_type": "code",
   "execution_count": null,
   "id": "69ef513f",
   "metadata": {
    "vscode": {
     "languageId": "plaintext"
    }
   },
   "outputs": [],
   "source": [
    "sample = dataset[0]\n",
    "for k, v in sample.items():\n",
    "    print(f\"Key: {k.ljust(20)} Shape: {v.shape}\")\n",
    "\n",
    "print(f\"Field Names: {dataset.metadata.field_names}\")"
   ]
  },
  {
   "cell_type": "markdown",
   "id": "ef82c7da",
   "metadata": {},
   "source": [
    "Using the model summary from above and the order of operations in the TFNO forward pass, the data is processed by:\n",
    "\n",
    "1. Applying optional positional encoding\n",
    "2. Sending inputs through a lifting layer to a high-dimensional latent space\n",
    "3. Applying optional domain padding to high-dimensional intermediate function representation\n",
    "4. Applying `n_layers` Fourier/TFNO layers in sequence (SpectralConvolution + skip connections, nonlinearity) \n",
    "5. If domain padding was applied, domain padding is removed\n",
    "6. Projection of intermediate function representation to the output channels\n",
    "\n",
    "\n",
    "This pretrained model is trained to predict the $T_{out} = 1$ next states given the $T_{in} = 4$ previous states. The input steps are concatenated along their channels, such that the model expects $T_{in} \\times F$ channels as input and $T_{out} \\times F$ channels as output. Because `WellDataset` is a PyTorch dataset, we can use it conveniently with PyTorch data-loaders."
   ]
  },
  {
   "cell_type": "markdown",
   "id": "e116e8a9",
   "metadata": {},
   "source": [
    "Essentially we can build a nice example to illustrate the points we make in Converting PyTorch models to PhysicsNeMo models.\n",
    "\n",
    "\n",
    "[Converting PyTorch Models to PhysicsNeMo Models](https://docs.nvidia.com/deeplearning/physicsnemo/physicsnemo-core/api/physicsnemo.models.html)\n",
    "\n",
    "\n",
    "In this example, we show:\n",
    "1. How to bring a pretrained checkpoint from the community (\"The well\") and run it as a PhysicsNeMo user\n",
    "2. Then train the same model architecture in PhysicsNeMo - showcasing how easy it is to work with any community PyTorch model\n",
    "3. Then talk about how someone can experiment with different other architectures - true value of PhysicsNeMo"
   ]
  },
  {
   "cell_type": "code",
   "execution_count": null,
   "id": "30be5a5f",
   "metadata": {
    "vscode": {
     "languageId": "plaintext"
    }
   },
   "outputs": [],
   "source": [
    "export PYTHONPATH=$PYTHONPATH:/workspace/PhysicsNeMo-git/physicsnemo"
   ]
  },
  {
   "cell_type": "code",
   "execution_count": null,
   "id": "f5263aa8",
   "metadata": {
    "vscode": {
     "languageId": "plaintext"
    }
   },
   "outputs": [],
   "source": [
    "### Loading a Pre-trained Model from The Well\n",
    "```python\n",
    "from the_well.benchmark.models import FNO\n",
    "\n",
    "# Load a pre-trained FNO model\n",
    "model = FNO.from_pretrained(\"polymathic-ai/FNO-active_matter\")\n",
    "type(model)\n",
    "```"
   ]
  },
  {
   "cell_type": "code",
   "execution_count": null,
   "id": "468c202a",
   "metadata": {
    "vscode": {
     "languageId": "plaintext"
    }
   },
   "outputs": [],
   "source": [
    "import torch\n",
    "from the_well.benchmark.models import FNO\n",
    "from physicsnemo.models.module import Module\n",
    "from physicsnemo.models.meta import ModelMetaData\n",
    "from physicsnemo.registry import ModelRegistry\n",
    "\n",
    "well_model = FNO.from_pretrained(\"polymathic-ai/FNO-active_matter\")\n",
    "\n",
    "pytorch_model = well_model.model\n",
    "\n",
    "pytorch_model.__name__ = \"thewell\"\n",
    "\n",
    "\n",
    "# Simple method\n",
    "physicsnemo_model = Module.from_torch(pytorch_model, meta=ModelMetaData(name=\"converted_fno\"))\n",
    "\n",
    "\n",
    "# Or Use a PhysicsNeMo-Compatible Model\n",
    "class PhysicsNeMoFNO(Module):\n",
    "    def __init__(self, fno_model, metadata=None):\n",
    "        super().__init__(metadata=metadata or MetaData())\n",
    "        self.fno = fno_model\n",
    "        \n",
    "    def forward(self, x):\n",
    "        # PhysicsNeMo expects specific input/output formats\n",
    "        # Adapt as needed based on your use case\n",
    "        return self.fno(x)\n",
    "    \n",
    "    @classmethod\n",
    "    def from_well_model(cls, well_model_name):\n",
    "        \"\"\"Convert a Well model to PhysicsNeMo format\"\"\"\n",
    "        # Load the Well model\n",
    "        if \"FNO\" in well_model_name:\n",
    "            from the_well.benchmark.models import FNO\n",
    "            well_model = FNO.from_pretrained(well_model_name)\n",
    "        elif \"UNet\" in well_model_name:\n",
    "            from the_well.benchmark.models import UNet\n",
    "            well_model = UNet.from_pretrained(well_model_name)\n",
    "        else:\n",
    "            raise ValueError(f\"Unknown model type: {well_model_name}\")\n",
    "        \n",
    "        # Create metadata for PhysicsNeMo optimizations\n",
    "        meta = ModuleMetaData(\n",
    "            name=well_model_name.replace(\"polymathic-ai/\", \"\")\n",
    "        )\n",
    "        \n",
    "        # Create PhysicsNeMo model\n",
    "        return cls(well_model.model, metadata)"
   ]
  },
  {
   "cell_type": "markdown",
   "id": "48355130",
   "metadata": {},
   "source": []
  }
 ],
 "metadata": {
  "language_info": {
   "name": "python"
  }
 },
 "nbformat": 4,
 "nbformat_minor": 5
}
